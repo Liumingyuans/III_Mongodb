{
 "cells": [
  {
   "cell_type": "code",
   "execution_count": 10,
   "metadata": {
    "collapsed": true
   },
   "outputs": [
    {
     "ename": "OSError",
     "evalue": "File b'./bar_2.csv' does not exist",
     "output_type": "error",
     "traceback": [
      "\u001b[1;31m---------------------------------------------------------------------------\u001b[0m",
      "\u001b[1;31mOSError\u001b[0m                                   Traceback (most recent call last)",
      "\u001b[1;32m<ipython-input-10-a6279e238703>\u001b[0m in \u001b[0;36m<module>\u001b[1;34m()\u001b[0m\n\u001b[0;32m      2\u001b[0m \u001b[1;32mimport\u001b[0m \u001b[0mcsv\u001b[0m\u001b[1;33m\u001b[0m\u001b[0m\n\u001b[0;32m      3\u001b[0m \u001b[1;32mimport\u001b[0m \u001b[0mjson\u001b[0m\u001b[1;33m\u001b[0m\u001b[0m\n\u001b[1;32m----> 4\u001b[1;33m \u001b[0mdf\u001b[0m\u001b[1;33m=\u001b[0m\u001b[0mpd\u001b[0m\u001b[1;33m.\u001b[0m\u001b[0mread_csv\u001b[0m\u001b[1;33m(\u001b[0m\u001b[1;34m'./bar_2.csv'\u001b[0m\u001b[1;33m)\u001b[0m\u001b[1;33m\u001b[0m\u001b[0m\n\u001b[0m\u001b[0;32m      5\u001b[0m \u001b[0mdf\u001b[0m\u001b[1;33m\u001b[0m\u001b[0m\n",
      "\u001b[1;32mC:\\Users\\BigData\\Downloads\\WinPython-64bit-3.4.3.5\\python-3.4.3.amd64\\lib\\site-packages\\pandas\\io\\parsers.py\u001b[0m in \u001b[0;36mparser_f\u001b[1;34m(filepath_or_buffer, sep, dialect, compression, doublequote, escapechar, quotechar, quoting, skipinitialspace, lineterminator, header, index_col, names, prefix, skiprows, skipfooter, skip_footer, na_values, na_fvalues, true_values, false_values, delimiter, converters, dtype, usecols, engine, delim_whitespace, as_recarray, na_filter, compact_ints, use_unsigned, low_memory, buffer_lines, warn_bad_lines, error_bad_lines, keep_default_na, thousands, comment, decimal, parse_dates, keep_date_col, dayfirst, date_parser, memory_map, float_precision, nrows, iterator, chunksize, verbose, encoding, squeeze, mangle_dupe_cols, tupleize_cols, infer_datetime_format, skip_blank_lines)\u001b[0m\n\u001b[0;32m    472\u001b[0m                     skip_blank_lines=skip_blank_lines)\n\u001b[0;32m    473\u001b[0m \u001b[1;33m\u001b[0m\u001b[0m\n\u001b[1;32m--> 474\u001b[1;33m         \u001b[1;32mreturn\u001b[0m \u001b[0m_read\u001b[0m\u001b[1;33m(\u001b[0m\u001b[0mfilepath_or_buffer\u001b[0m\u001b[1;33m,\u001b[0m \u001b[0mkwds\u001b[0m\u001b[1;33m)\u001b[0m\u001b[1;33m\u001b[0m\u001b[0m\n\u001b[0m\u001b[0;32m    475\u001b[0m \u001b[1;33m\u001b[0m\u001b[0m\n\u001b[0;32m    476\u001b[0m     \u001b[0mparser_f\u001b[0m\u001b[1;33m.\u001b[0m\u001b[0m__name__\u001b[0m \u001b[1;33m=\u001b[0m \u001b[0mname\u001b[0m\u001b[1;33m\u001b[0m\u001b[0m\n",
      "\u001b[1;32mC:\\Users\\BigData\\Downloads\\WinPython-64bit-3.4.3.5\\python-3.4.3.amd64\\lib\\site-packages\\pandas\\io\\parsers.py\u001b[0m in \u001b[0;36m_read\u001b[1;34m(filepath_or_buffer, kwds)\u001b[0m\n\u001b[0;32m    248\u001b[0m \u001b[1;33m\u001b[0m\u001b[0m\n\u001b[0;32m    249\u001b[0m     \u001b[1;31m# Create the parser.\u001b[0m\u001b[1;33m\u001b[0m\u001b[1;33m\u001b[0m\u001b[0m\n\u001b[1;32m--> 250\u001b[1;33m     \u001b[0mparser\u001b[0m \u001b[1;33m=\u001b[0m \u001b[0mTextFileReader\u001b[0m\u001b[1;33m(\u001b[0m\u001b[0mfilepath_or_buffer\u001b[0m\u001b[1;33m,\u001b[0m \u001b[1;33m**\u001b[0m\u001b[0mkwds\u001b[0m\u001b[1;33m)\u001b[0m\u001b[1;33m\u001b[0m\u001b[0m\n\u001b[0m\u001b[0;32m    251\u001b[0m \u001b[1;33m\u001b[0m\u001b[0m\n\u001b[0;32m    252\u001b[0m     \u001b[1;32mif\u001b[0m \u001b[1;33m(\u001b[0m\u001b[0mnrows\u001b[0m \u001b[1;32mis\u001b[0m \u001b[1;32mnot\u001b[0m \u001b[1;32mNone\u001b[0m\u001b[1;33m)\u001b[0m \u001b[1;32mand\u001b[0m \u001b[1;33m(\u001b[0m\u001b[0mchunksize\u001b[0m \u001b[1;32mis\u001b[0m \u001b[1;32mnot\u001b[0m \u001b[1;32mNone\u001b[0m\u001b[1;33m)\u001b[0m\u001b[1;33m:\u001b[0m\u001b[1;33m\u001b[0m\u001b[0m\n",
      "\u001b[1;32mC:\\Users\\BigData\\Downloads\\WinPython-64bit-3.4.3.5\\python-3.4.3.amd64\\lib\\site-packages\\pandas\\io\\parsers.py\u001b[0m in \u001b[0;36m__init__\u001b[1;34m(self, f, engine, **kwds)\u001b[0m\n\u001b[0;32m    564\u001b[0m             \u001b[0mself\u001b[0m\u001b[1;33m.\u001b[0m\u001b[0moptions\u001b[0m\u001b[1;33m[\u001b[0m\u001b[1;34m'has_index_names'\u001b[0m\u001b[1;33m]\u001b[0m \u001b[1;33m=\u001b[0m \u001b[0mkwds\u001b[0m\u001b[1;33m[\u001b[0m\u001b[1;34m'has_index_names'\u001b[0m\u001b[1;33m]\u001b[0m\u001b[1;33m\u001b[0m\u001b[0m\n\u001b[0;32m    565\u001b[0m \u001b[1;33m\u001b[0m\u001b[0m\n\u001b[1;32m--> 566\u001b[1;33m         \u001b[0mself\u001b[0m\u001b[1;33m.\u001b[0m\u001b[0m_make_engine\u001b[0m\u001b[1;33m(\u001b[0m\u001b[0mself\u001b[0m\u001b[1;33m.\u001b[0m\u001b[0mengine\u001b[0m\u001b[1;33m)\u001b[0m\u001b[1;33m\u001b[0m\u001b[0m\n\u001b[0m\u001b[0;32m    567\u001b[0m \u001b[1;33m\u001b[0m\u001b[0m\n\u001b[0;32m    568\u001b[0m     \u001b[1;32mdef\u001b[0m \u001b[0m_get_options_with_defaults\u001b[0m\u001b[1;33m(\u001b[0m\u001b[0mself\u001b[0m\u001b[1;33m,\u001b[0m \u001b[0mengine\u001b[0m\u001b[1;33m)\u001b[0m\u001b[1;33m:\u001b[0m\u001b[1;33m\u001b[0m\u001b[0m\n",
      "\u001b[1;32mC:\\Users\\BigData\\Downloads\\WinPython-64bit-3.4.3.5\\python-3.4.3.amd64\\lib\\site-packages\\pandas\\io\\parsers.py\u001b[0m in \u001b[0;36m_make_engine\u001b[1;34m(self, engine)\u001b[0m\n\u001b[0;32m    703\u001b[0m     \u001b[1;32mdef\u001b[0m \u001b[0m_make_engine\u001b[0m\u001b[1;33m(\u001b[0m\u001b[0mself\u001b[0m\u001b[1;33m,\u001b[0m \u001b[0mengine\u001b[0m\u001b[1;33m=\u001b[0m\u001b[1;34m'c'\u001b[0m\u001b[1;33m)\u001b[0m\u001b[1;33m:\u001b[0m\u001b[1;33m\u001b[0m\u001b[0m\n\u001b[0;32m    704\u001b[0m         \u001b[1;32mif\u001b[0m \u001b[0mengine\u001b[0m \u001b[1;33m==\u001b[0m \u001b[1;34m'c'\u001b[0m\u001b[1;33m:\u001b[0m\u001b[1;33m\u001b[0m\u001b[0m\n\u001b[1;32m--> 705\u001b[1;33m             \u001b[0mself\u001b[0m\u001b[1;33m.\u001b[0m\u001b[0m_engine\u001b[0m \u001b[1;33m=\u001b[0m \u001b[0mCParserWrapper\u001b[0m\u001b[1;33m(\u001b[0m\u001b[0mself\u001b[0m\u001b[1;33m.\u001b[0m\u001b[0mf\u001b[0m\u001b[1;33m,\u001b[0m \u001b[1;33m**\u001b[0m\u001b[0mself\u001b[0m\u001b[1;33m.\u001b[0m\u001b[0moptions\u001b[0m\u001b[1;33m)\u001b[0m\u001b[1;33m\u001b[0m\u001b[0m\n\u001b[0m\u001b[0;32m    706\u001b[0m         \u001b[1;32melse\u001b[0m\u001b[1;33m:\u001b[0m\u001b[1;33m\u001b[0m\u001b[0m\n\u001b[0;32m    707\u001b[0m             \u001b[1;32mif\u001b[0m \u001b[0mengine\u001b[0m \u001b[1;33m==\u001b[0m \u001b[1;34m'python'\u001b[0m\u001b[1;33m:\u001b[0m\u001b[1;33m\u001b[0m\u001b[0m\n",
      "\u001b[1;32mC:\\Users\\BigData\\Downloads\\WinPython-64bit-3.4.3.5\\python-3.4.3.amd64\\lib\\site-packages\\pandas\\io\\parsers.py\u001b[0m in \u001b[0;36m__init__\u001b[1;34m(self, src, **kwds)\u001b[0m\n\u001b[0;32m   1070\u001b[0m         \u001b[0mkwds\u001b[0m\u001b[1;33m[\u001b[0m\u001b[1;34m'allow_leading_cols'\u001b[0m\u001b[1;33m]\u001b[0m \u001b[1;33m=\u001b[0m \u001b[0mself\u001b[0m\u001b[1;33m.\u001b[0m\u001b[0mindex_col\u001b[0m \u001b[1;32mis\u001b[0m \u001b[1;32mnot\u001b[0m \u001b[1;32mFalse\u001b[0m\u001b[1;33m\u001b[0m\u001b[0m\n\u001b[0;32m   1071\u001b[0m \u001b[1;33m\u001b[0m\u001b[0m\n\u001b[1;32m-> 1072\u001b[1;33m         \u001b[0mself\u001b[0m\u001b[1;33m.\u001b[0m\u001b[0m_reader\u001b[0m \u001b[1;33m=\u001b[0m \u001b[0m_parser\u001b[0m\u001b[1;33m.\u001b[0m\u001b[0mTextReader\u001b[0m\u001b[1;33m(\u001b[0m\u001b[0msrc\u001b[0m\u001b[1;33m,\u001b[0m \u001b[1;33m**\u001b[0m\u001b[0mkwds\u001b[0m\u001b[1;33m)\u001b[0m\u001b[1;33m\u001b[0m\u001b[0m\n\u001b[0m\u001b[0;32m   1073\u001b[0m \u001b[1;33m\u001b[0m\u001b[0m\n\u001b[0;32m   1074\u001b[0m         \u001b[1;31m# XXX\u001b[0m\u001b[1;33m\u001b[0m\u001b[1;33m\u001b[0m\u001b[0m\n",
      "\u001b[1;32mpandas\\parser.pyx\u001b[0m in \u001b[0;36mpandas.parser.TextReader.__cinit__ (pandas\\parser.c:3187)\u001b[1;34m()\u001b[0m\n",
      "\u001b[1;32mpandas\\parser.pyx\u001b[0m in \u001b[0;36mpandas.parser.TextReader._setup_parser_source (pandas\\parser.c:5930)\u001b[1;34m()\u001b[0m\n",
      "\u001b[1;31mOSError\u001b[0m: File b'./bar_2.csv' does not exist"
     ]
    }
   ],
   "source": [
    "import pandas as pd\n",
    "import csv\n",
    "import json\n",
    "df=pd.read_csv('./bar_1.csv')\n",
    "df"
   ]
  },
  {
   "cell_type": "code",
   "execution_count": 9,
   "metadata": {
    "collapsed": true
   },
   "outputs": [
    {
     "data": {
      "text/plain": [
       "[ObjectId('56c458dc426a9c1bb0853aa2'),\n",
       " ObjectId('56c458dc426a9c1bb0853aa3'),\n",
       " ObjectId('56c458dc426a9c1bb0853aa4'),\n",
       " ObjectId('56c458dc426a9c1bb0853aa5'),\n",
       " ObjectId('56c458dc426a9c1bb0853aa6'),\n",
       " ObjectId('56c458dc426a9c1bb0853aa7'),\n",
       " ObjectId('56c458dc426a9c1bb0853aa8'),\n",
       " ObjectId('56c458dc426a9c1bb0853aa9'),\n",
       " ObjectId('56c458dc426a9c1bb0853aaa'),\n",
       " ObjectId('56c458dc426a9c1bb0853aab'),\n",
       " ObjectId('56c458dc426a9c1bb0853aac'),\n",
       " ObjectId('56c458dc426a9c1bb0853aad'),\n",
       " ObjectId('56c458dc426a9c1bb0853aae'),\n",
       " ObjectId('56c458dc426a9c1bb0853aaf'),\n",
       " ObjectId('56c458dc426a9c1bb0853ab0'),\n",
       " ObjectId('56c458dc426a9c1bb0853ab1'),\n",
       " ObjectId('56c458dc426a9c1bb0853ab2'),\n",
       " ObjectId('56c458dc426a9c1bb0853ab3'),\n",
       " ObjectId('56c458dc426a9c1bb0853ab4'),\n",
       " ObjectId('56c458dc426a9c1bb0853ab5'),\n",
       " ObjectId('56c458dc426a9c1bb0853ab6'),\n",
       " ObjectId('56c458dc426a9c1bb0853ab7'),\n",
       " ObjectId('56c458dc426a9c1bb0853ab8'),\n",
       " ObjectId('56c458dc426a9c1bb0853ab9'),\n",
       " ObjectId('56c458dc426a9c1bb0853aba'),\n",
       " ObjectId('56c458dc426a9c1bb0853abb'),\n",
       " ObjectId('56c458dc426a9c1bb0853abc'),\n",
       " ObjectId('56c458dc426a9c1bb0853abd'),\n",
       " ObjectId('56c458dc426a9c1bb0853abe'),\n",
       " ObjectId('56c458dc426a9c1bb0853abf'),\n",
       " ObjectId('56c458dc426a9c1bb0853ac0'),\n",
       " ObjectId('56c458dc426a9c1bb0853ac1'),\n",
       " ObjectId('56c458dc426a9c1bb0853ac2'),\n",
       " ObjectId('56c458dc426a9c1bb0853ac3')]"
      ]
     },
     "execution_count": 9,
     "metadata": {},
     "output_type": "execute_result"
    }
   ],
   "source": [
    "import pymongo\n",
    "from pymongo import MongoClient\n",
    "client = MongoClient('localhost', 27017)#connnect to server\n",
    "db = client['G5']#select database\n",
    "records = json.loads(df.T.to_json()).values()\n",
    "db.bar_1.insert(records)"
   ]
  },
  {
   "cell_type": "code",
   "execution_count": 7,
   "metadata": {
    "collapsed": true
   },
   "outputs": [
    {
     "data": {
      "text/plain": [
       "[{'_id': ObjectId('56c45667426a9c1bb0853a68'),\n",
       "  'count': 14741,\n",
       "  'effect': '易推勻'},\n",
       " {'_id': ObjectId('56c45667426a9c1bb0853a69'),\n",
       "  'count': 56629,\n",
       "  'effect': '不油膩'},\n",
       " {'_id': ObjectId('56c45667426a9c1bb0853a6a'),\n",
       "  'count': 41161,\n",
       "  'effect': '用量省'},\n",
       " {'_id': ObjectId('56c45667426a9c1bb0853a6b'), 'count': 2695, 'effect': '彈力'},\n",
       " {'_id': ObjectId('56c45667426a9c1bb0853a6c'), 'count': 6689, 'effect': '好上手'},\n",
       " {'_id': ObjectId('56c45667426a9c1bb0853a6d'),\n",
       "  'count': 51540,\n",
       "  'effect': '不黏膩'},\n",
       " {'_id': ObjectId('56c45667426a9c1bb0853a6e'),\n",
       "  'count': 25711,\n",
       "  'effect': '不致痘'},\n",
       " {'_id': ObjectId('56c45667426a9c1bb0853a6f'), 'count': 2445, 'effect': '服貼'},\n",
       " {'_id': ObjectId('56c45667426a9c1bb0853a70'),\n",
       "  'count': 9232,\n",
       "  'effect': '氣味不佳'},\n",
       " {'_id': ObjectId('56c45667426a9c1bb0853a71'), 'count': 24773, 'effect': '美白'},\n",
       " {'_id': ObjectId('56c45667426a9c1bb0853a72'),\n",
       "  'count': 239,\n",
       "  'effect': '淡化細紋無感'},\n",
       " {'_id': ObjectId('56c45667426a9c1bb0853a73'),\n",
       "  'count': 26338,\n",
       "  'effect': '氣味適中'},\n",
       " {'_id': ObjectId('56c45667426a9c1bb0853a74'),\n",
       "  'count': 59059,\n",
       "  'effect': '會回購'},\n",
       " {'_id': ObjectId('56c45667426a9c1bb0853a75'),\n",
       "  'count': 25159,\n",
       "  'effect': '不緊繃'},\n",
       " {'_id': ObjectId('56c45667426a9c1bb0853a76'),\n",
       "  'count': 9586,\n",
       "  'effect': '不致粉刺'},\n",
       " {'_id': ObjectId('56c45667426a9c1bb0853a77'), 'count': 27420, 'effect': '滋潤'},\n",
       " {'_id': ObjectId('56c45667426a9c1bb0853a78'), 'count': 1752, 'effect': '不控油'},\n",
       " {'_id': ObjectId('56c45667426a9c1bb0853a79'), 'count': 3588, 'effect': '致痘'},\n",
       " {'_id': ObjectId('56c45667426a9c1bb0853a7a'),\n",
       "  'count': 5066,\n",
       "  'effect': '引起過敏'},\n",
       " {'_id': ObjectId('56c45667426a9c1bb0853a7b'), 'count': 745, 'effect': '不暗沉'},\n",
       " {'_id': ObjectId('56c45667426a9c1bb0853a7c'), 'count': 21035, 'effect': '昂貴'},\n",
       " {'_id': ObjectId('56c45667426a9c1bb0853a7d'), 'count': 2899, 'effect': '難推勻'},\n",
       " {'_id': ObjectId('56c45667426a9c1bb0853a7e'),\n",
       "  'count': 14750,\n",
       "  'effect': '刺激性強'},\n",
       " {'_id': ObjectId('56c45667426a9c1bb0853a7f'),\n",
       "  'count': 17932,\n",
       "  'effect': '無負擔'},\n",
       " {'_id': ObjectId('56c45667426a9c1bb0853a80'), 'count': 4474, 'effect': '修護'},\n",
       " {'_id': ObjectId('56c45667426a9c1bb0853a81'), 'count': 2203, 'effect': '水亮'},\n",
       " {'_id': ObjectId('56c45667426a9c1bb0853a82'), 'count': 3057, 'effect': '清新'},\n",
       " {'_id': ObjectId('56c45667426a9c1bb0853a83'),\n",
       "  'count': 2479,\n",
       "  'effect': '淡化細紋'},\n",
       " {'_id': ObjectId('56c45667426a9c1bb0853a84'),\n",
       "  'count': 53782,\n",
       "  'effect': '好吸收'},\n",
       " {'_id': ObjectId('56c45667426a9c1bb0853a85'), 'count': 4567, 'effect': '暗沉'},\n",
       " {'_id': ObjectId('56c45667426a9c1bb0853a86'),\n",
       "  'count': 50646,\n",
       "  'effect': '不引起過敏'},\n",
       " {'_id': ObjectId('56c45667426a9c1bb0853a87'),\n",
       "  'count': 41082,\n",
       "  'effect': '易沖淨'},\n",
       " {'_id': ObjectId('56c45667426a9c1bb0853a88'), 'count': 2104, 'effect': '防曬差'},\n",
       " {'_id': ObjectId('56c45667426a9c1bb0853a89'), 'count': 72176, 'effect': '清爽'},\n",
       " {'_id': ObjectId('56c45667426a9c1bb0853a8a'), 'count': 8858, 'effect': '光滑'},\n",
       " {'_id': ObjectId('56c45667426a9c1bb0853a8b'), 'count': 15106, 'effect': '舒緩'},\n",
       " {'_id': ObjectId('56c45667426a9c1bb0853a8c'),\n",
       "  'count': 12565,\n",
       "  'effect': '不回購'},\n",
       " {'_id': ObjectId('56c45667426a9c1bb0853a8d'), 'count': 2090, 'effect': '用量大'},\n",
       " {'_id': ObjectId('56c45667426a9c1bb0853a8e'), 'count': 10496, 'effect': '油膩'},\n",
       " {'_id': ObjectId('56c45667426a9c1bb0853a8f'), 'count': 3039, 'effect': '清涼感'},\n",
       " {'_id': ObjectId('56c45667426a9c1bb0853a90'), 'count': 4631, 'effect': '不清爽'},\n",
       " {'_id': ObjectId('56c45667426a9c1bb0853a91'),\n",
       "  'count': 5898,\n",
       "  'effect': '美白無感'},\n",
       " {'_id': ObjectId('56c45667426a9c1bb0853a92'), 'count': 4006, 'effect': '鎮定'},\n",
       " {'_id': ObjectId('56c45667426a9c1bb0853a93'),\n",
       "  'count': 659,\n",
       "  'effect': '淡黑眼圈無感'},\n",
       " {'_id': ObjectId('56c45667426a9c1bb0853a94'), 'count': 1082, 'effect': '不泛白'},\n",
       " {'_id': ObjectId('56c45667426a9c1bb0853a95'),\n",
       "  'count': 9890,\n",
       "  'effect': '不易洗淨'},\n",
       " {'_id': ObjectId('56c45667426a9c1bb0853a96'), 'count': 2863, 'effect': '防曬佳'},\n",
       " {'_id': ObjectId('56c45667426a9c1bb0853a97'),\n",
       "  'count': 79253,\n",
       "  'effect': '溫和低刺激'},\n",
       " {'_id': ObjectId('56c45667426a9c1bb0853a98'), 'count': 13380, 'effect': '柔嫩'},\n",
       " {'_id': ObjectId('56c45667426a9c1bb0853a99'), 'count': 7202, 'effect': '緊繃'},\n",
       " {'_id': ObjectId('56c45667426a9c1bb0853a9a'),\n",
       "  'count': 20268,\n",
       "  'effect': '沒效果'},\n",
       " {'_id': ObjectId('56c45667426a9c1bb0853a9b'),\n",
       "  'count': 3881,\n",
       "  'effect': '粉刺減少'},\n",
       " {'_id': ObjectId('56c45667426a9c1bb0853a9c'), 'count': 19112, 'effect': '黏膩'},\n",
       " {'_id': ObjectId('56c45667426a9c1bb0853a9d'),\n",
       "  'count': 4047,\n",
       "  'effect': '不好吸收'},\n",
       " {'_id': ObjectId('56c45667426a9c1bb0853a9e'), 'count': 23853, 'effect': '明亮'},\n",
       " {'_id': ObjectId('56c45667426a9c1bb0853a9f'), 'count': 74765, 'effect': '保濕'},\n",
       " {'_id': ObjectId('56c45667426a9c1bb0853aa0'), 'count': 6777, 'effect': '控油'},\n",
       " {'_id': ObjectId('56c45667426a9c1bb0853aa1'),\n",
       "  'count': 55763,\n",
       "  'effect': '價格實在'}]"
      ]
     },
     "execution_count": 7,
     "metadata": {},
     "output_type": "execute_result"
    }
   ],
   "source": [
    "list(db.bar.find({}))"
   ]
  },
  {
   "cell_type": "code",
   "execution_count": null,
   "metadata": {
    "collapsed": true
   },
   "outputs": [],
   "source": []
  }
 ],
 "metadata": {
  "kernelspec": {
   "display_name": "Python 2",
   "language": "python",
   "name": "python2"
  },
  "language_info": {
   "codemirror_mode": {
    "name": "ipython",
    "version": 2
   },
   "file_extension": ".py",
   "mimetype": "text/x-python",
   "name": "python",
   "nbconvert_exporter": "python",
   "pygments_lexer": "ipython2",
   "version": "2.7.10"
  }
 },
 "nbformat": 4,
 "nbformat_minor": 0
}

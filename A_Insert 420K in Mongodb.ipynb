{
 "cells": [
  {
   "cell_type": "code",
   "execution_count": 74,
   "metadata": {
    "collapsed": false
   },
   "outputs": [],
   "source": [
    "#insert data into mongodb\n",
    "import pymongo\n",
    "from pymongo import MongoClient\n",
    "client = MongoClient('localhost', 27017)#connnect to server\n",
    "db = client['G5']#select database\n",
    "#insert csv.file line()\n",
    "import os\n",
    "import re\n",
    "import json\n",
    "import pandas as pd\n",
    "count=0 #set init for count\n",
    "            #input file\n",
    "with open('ALL.csv','r') as foo:\n",
    "            for joo in range(0,421558):\n",
    "                try:    \n",
    "                    line =\"\".join(foo.readline().split('\\r'))\n",
    "                    reviewid=line.split(',')[0]\n",
    "                    proid=line.split(',')[1]          \n",
    "                    protype=line.split(',')[2]\n",
    "                    date=line.split(',')[3]     \n",
    "                    brand=line.split(',')[4]         \n",
    "                    proname=line.split(',')[5]   \n",
    "                    scoresum=line.split(',')[6]         \n",
    "                    count=line.split(',')[7]   \n",
    "                    price=line.split(',')[8]        \n",
    "                    age=line.split(',')[9]  \n",
    "                    A=line.split(',')[10]            \n",
    "                    B=line.split(',')[11]             \n",
    "                    C=line.split(',')[12]             \n",
    "                    D=line.split(',')[13]             \n",
    "                    E=line.split(',')[14]             \n",
    "                    F=line.split(',')[15]             \n",
    "                    G=line.split(',')[16]             \n",
    "                    H=line.split(',')[17]             \n",
    "                    I=line.split(',')[18]             \n",
    "                    J=line.split(',')[19]             \n",
    "                    K=line.split(',')[20]             \n",
    "                    L=line.split(',')[21]             \n",
    "                    M=line.split(',')[22]             \n",
    "                    N=line.split(',')[23]             \n",
    "                    O=line.split(',')[24]             \n",
    "                    P=line.split(',')[25]         \n",
    "                    Q=line.split(',')[26]            \n",
    "                    R=line.split(',')[27]            \n",
    "                    S=line.split(',')[28]            \n",
    "                    T=line.split(',')[29]            \n",
    "                    U=line.split(',')[30]            \n",
    "                    V=line.split(',')[31]            \n",
    "                    W=line.split(',')[32]            \n",
    "                    X=line.split(',')[33]            \n",
    "                    Y=line.split(',')[34]    \n",
    "                    Z=line.split(',')[35]            \n",
    "                    AA=line.split(',')[36]        \n",
    "                    AD=line.split(',')[39]        \n",
    "                    AB=line.split(',')[37]        \n",
    "                    AC=line.split(',')[38]            \n",
    "                    score=line.split(',')[40]   \n",
    "                    skin=line.split(',')[41]\n",
    "                    spr=line.split(',')[42]    \n",
    "                    summer=line.split(',')[43]\n",
    "                    fall=line.split(',')[44]    \n",
    "                    winter=line.split(',')[45]    \n",
    "                    review=line.split(',')[46]\n",
    "                    li = []\n",
    "                    li.append({\"reviewid\":reviewid,\"proid\":proid,\"protype\":protype,\"date\":date,\"brand\":brand,\n",
    "                               \"proname\":proname,\"scoresum\":float(scoresum),\"count\":int(count),\"price\":int(price),\n",
    "                               \"age\":int(age),\"A\":int(A),\"B\":int(B),\"C\":int(C),\"D\":int(D),\"E\":int(E),\"F\":int(F),\n",
    "                               \"G\":int(G),\"H\":int(H),\"I\":int(I),\"J\":int(J),\"K\":int(K),\"L\":int(L),\"M\":int(M),\n",
    "                               \"N\":int(N),\"O\":int(O),\"P\":int(P),\"Q\":int(Q),\"R\":int(R),\"S\":int(S),\"T\":int(T),\n",
    "                               \"U\":int(U),\"V\":int(V),\"W\":int(W),\"X\":int(X),\"Y\":int(Y),\"Z\":int(Z),\"AA\":int(AA),\n",
    "                               \"AB\":int(AB),\"AC\":int(AC),\"score\":float(score),\"skin\":skin,\"spr\":int(spr),\n",
    "                               \"summer\":int(summer),\"fall\":int(fall),\"winter\":int(winter),\"review\":review})\n",
    "\n",
    "                    aaa=li[0]\n",
    "\n",
    "                    #print (aaa)\n",
    "                    db.osos2.insert(aaa)\n",
    "                except (IndexError,ValueError):\n",
    "                    #print(aaa)#print error file\n",
    "                    #count +=1\n",
    "                    pass\n",
    "            #print ('error total: ' + str(count))#count number of error file(didn't go in to database)"
   ]
  },
  {
   "cell_type": "code",
   "execution_count": 75,
   "metadata": {
    "collapsed": false
   },
   "outputs": [
    {
     "data": {
      "text/plain": [
       "418039"
      ]
     },
     "execution_count": 75,
     "metadata": {},
     "output_type": "execute_result"
    }
   ],
   "source": [
    "db.osos2.find().count()"
   ]
  },
  {
   "cell_type": "code",
   "execution_count": 1,
   "metadata": {
    "collapsed": false
   },
   "outputs": [
    {
     "name": "stdout",
     "output_type": "stream",
     "text": [
      "[{'N': 0, 'E': 0, 'X': 0, 'proid': '1360', 'date': 'NA', 'T': 0, 'AA': 0, 'Z': 0, 'summer': 0, 'D': 0, 'O': 0, 'fall': 0, 'protype': '1', 'Q': 0, 'U': 0, 'V': 0, 'winter': 0, 'skin': '混合性肌膚', '_id': ObjectId('56b20933426a9c097cacacb2'), 'H': 0, 'score': 5.0, 'B': 0, 'age': 23, 'W': 0, 'C': 0, 'scoresum': 3.0, 'R': 0, 'brand': 'Boots 博姿', 'L': 0, 'Y': 0, 'P': 0, 'price': 0, 'M': 0, 'A': 0, 'J': 0, 'AB': 0, 'proname': 'Daily V All Clean Eye Make-up Remover 活顏V輕柔眼部卸妝露', 'review': '我用過的眼部卸妝?品不多，只用過chanelsisley這款。相比之下，這款的卸妝能力是三者中最強的，卸日系的防水睫毛膏一次就可以卸幹淨了，價格比較平易近人，卸完後有一點點油油的感覺，不會很油，在可以接受的範圍內\\n', 'G': 0, 'F': 0, 'I': 0, 'K': 0, 'AC': 0, 'S': 0, 'count': 3, 'spr': 0, 'reviewid': '315640'}, {'N': 0, 'E': 0, 'X': 0, 'proid': '1360', 'date': 'NA', 'T': 0, 'AA': 0, 'Z': 0, 'summer': 0, 'D': 0, 'O': 0, 'fall': 0, 'protype': '1', 'Q': 0, 'U': 0, 'V': 0, 'winter': 0, 'skin': '油性肌膚', '_id': ObjectId('56b20933426a9c097cacacb3'), 'H': 0, 'score': 4.0, 'B': 0, 'age': 19, 'W': 0, 'C': 0, 'scoresum': 3.0, 'R': 0, 'brand': 'Boots 博姿', 'L': 0, 'Y': 0, 'P': 0, 'price': 0, 'M': 0, 'A': 0, 'J': 0, 'AB': 0, 'proname': 'Daily V All Clean Eye Make-up Remover 活顏V輕柔眼部卸妝露', 'review': '是有BOOTS 的?金抵押券才??的在英?本?六?抵用券五?~~一?就拿了一瓶价?我喜?啦~~水油分离的是按?的瓶口但是我?得那??超不好用的按的?候?一下子很近一下又?到很?回?啦但是卸?的效果?不?啦就是6分??子的感?下次有抵金券的??是??啦~~\\n', 'G': 0, 'F': 0, 'I': 0, 'K': 0, 'AC': 0, 'S': 0, 'count': 3, 'spr': 0, 'reviewid': '335588'}, {'N': 0, 'E': 0, 'X': 0, 'proid': '1360', 'date': 'NA', 'T': 0, 'AA': 0, 'Z': 0, 'summer': 0, 'D': 0, 'O': 0, 'fall': 0, 'protype': '1', 'Q': 0, 'U': 0, 'V': 0, 'winter': 0, 'skin': '混合性肌膚', '_id': ObjectId('56b20933426a9c097cacacb4'), 'H': 0, 'score': 2.0, 'B': 0, 'age': 22, 'W': 0, 'C': 0, 'scoresum': 3.0, 'R': 0, 'brand': 'Boots 博姿', 'L': 0, 'Y': 0, 'P': 0, 'price': 0, 'M': 0, 'A': 0, 'J': 0, 'AB': 0, 'proname': 'Daily V All Clean Eye Make-up Remover 活顏V輕柔眼部卸妝露', 'review': '卸眼妝不夠乾淨啦~~~我是慣用FASIOKISS ME FIBERWIG我睫毛液Fasio的出名難卸就算了但連Fiberwig也卸不乾淨 價錢又沒有特別親人以後不會再買\\n', 'G': 0, 'F': 0, 'I': 0, 'K': 0, 'AC': 0, 'S': 0, 'count': 3, 'spr': 0, 'reviewid': '350755'}, {'N': 0, 'E': 0, 'X': 0, 'proid': '13722', 'date': '2009-03-01上市[停產]', 'T': 0, 'AA': 0, 'Z': 0, 'summer': 0, 'D': 0, 'O': 0, 'fall': 0, 'protype': '1', 'Q': 0, 'U': 0, 'V': 0, 'winter': 0, 'skin': '油性肌膚', '_id': ObjectId('56b20933426a9c097cacacb5'), 'H': 0, 'score': 4.0, 'B': 0, 'age': 25, 'W': 0, 'C': 0, 'scoresum': 3.0, 'R': 0, 'brand': 'AQUA LABEL 水之印', 'L': 0, 'Y': 0, 'P': 0, 'price': 270, 'M': 0, 'A': 0, 'J': 0, 'AB': 0, 'proname': '亮白去角質卸粧乳', 'review': '是在日本的藥妝店購入的當初是因為有人介紹所以買來使用看看我覺得它卸的很乾淨之前因為專門卸眼妝的卸妝乳沒有了就拿這瓶來用結果睫毛膏和眼線卸的超乾淨但要小心跑入眼睛會痛還有塗在臉上後的感覺我不是很喜歡但還算OK啦不會覺得難用\\n', 'G': 0, 'F': 0, 'I': 0, 'K': 0, 'AC': 0, 'S': 0, 'count': 58, 'spr': 0, 'reviewid': '416361'}, {'N': 0, 'E': 0, 'X': 0, 'proid': '13722', 'date': '2009-03-01上市[停產]', 'T': 0, 'AA': 0, 'Z': 0, 'summer': 0, 'D': 0, 'O': 0, 'fall': 0, 'protype': '1', 'Q': 0, 'U': 0, 'V': 0, 'winter': 0, 'skin': '混合性肌膚', '_id': ObjectId('56b20933426a9c097cacacb6'), 'H': 0, 'score': 5.0, 'B': 0, 'age': 21, 'W': 0, 'C': 0, 'scoresum': 3.0, 'R': 0, 'brand': 'AQUA LABEL 水之印', 'L': 0, 'Y': 0, 'P': 0, 'price': 270, 'M': 0, 'A': 0, 'J': 0, 'AB': 0, 'proname': '亮白去角質卸粧乳', 'review': '清潔效果不錯，價位也不算高，值得推薦\\n', 'G': 0, 'F': 0, 'I': 0, 'K': 0, 'AC': 0, 'S': 0, 'count': 58, 'spr': 0, 'reviewid': '432869'}, {'N': 0, 'E': 0, 'X': 0, 'proid': '13722', 'date': '2009-03-01上市[停產]', 'T': 0, 'AA': 0, 'Z': 0, 'summer': 0, 'D': 0, 'O': 0, 'fall': 0, 'protype': '1', 'Q': 0, 'U': 0, 'V': 0, 'winter': 0, 'skin': '混合性肌膚', '_id': ObjectId('56b20933426a9c097cacacb7'), 'H': 0, 'score': 5.0, 'B': 0, 'age': 23, 'W': 0, 'C': 0, 'scoresum': 3.0, 'R': 0, 'brand': 'AQUA LABEL 水之印', 'L': 0, 'Y': 0, 'P': 0, 'price': 270, 'M': 0, 'A': 0, 'J': 0, 'AB': 0, 'proname': '亮白去角質卸粧乳', 'review': '朋友介紹買的當時又打85折覺得蠻便宜的就買了使用上是感覺不到它的去角質功效是乳狀的味道很香很好聞不過用水清洗後還是會有油膩感所以我都會再用洗面乳在清洗過一次整體上表現普普但清潔力還算夠有特價時才會在購入吧\\n', 'G': 0, 'F': 0, 'I': 0, 'K': 0, 'AC': 0, 'S': 0, 'count': 58, 'spr': 0, 'reviewid': '452884'}, {'N': 0, 'E': 0, 'X': 0, 'proid': '13722', 'date': '2009-03-01上市[停產]', 'T': 0, 'AA': 0, 'Z': 0, 'summer': 0, 'D': 0, 'O': 0, 'fall': 0, 'protype': '1', 'Q': 0, 'U': 0, 'V': 0, 'winter': 0, 'skin': '混合性肌膚', '_id': ObjectId('56b20933426a9c097cacacb8'), 'H': 0, 'score': 1.0, 'B': 0, 'age': 20, 'W': 0, 'C': 0, 'scoresum': 3.0, 'R': 0, 'brand': 'AQUA LABEL 水之印', 'L': 0, 'Y': 0, 'P': 0, 'price': 270, 'M': 0, 'A': 0, 'J': 0, 'AB': 0, 'proname': '亮白去角質卸粧乳', 'review': '只能說超油的0我沒有用衛生紙擦，是直接用水洗掉結果臉摸起來超油，好像沒洗乾淨那種感覺用洗面乳洗過後摸起來還是一樣 清潔力沒注意，我只擦防曬而已超級不推的臉好像幾百年沒洗似的油膩不舒服\\n', 'G': 0, 'F': 0, 'I': 0, 'K': 0, 'AC': 0, 'S': 0, 'count': 58, 'spr': 0, 'reviewid': '456689'}, {'N': 0, 'E': 0, 'X': 0, 'proid': '13722', 'date': '2009-03-01上市[停產]', 'T': 0, 'AA': 0, 'Z': 0, 'summer': 0, 'D': 0, 'O': 0, 'fall': 0, 'protype': '1', 'Q': 0, 'U': 0, 'V': 0, 'winter': 0, 'skin': '混合性肌膚', '_id': ObjectId('56b20933426a9c097cacacb9'), 'H': 0, 'score': 6.0, 'B': 0, 'age': 23, 'W': 0, 'C': 0, 'scoresum': 3.0, 'R': 0, 'brand': 'AQUA LABEL 水之印', 'L': 0, 'Y': 0, 'P': 0, 'price': 270, 'M': 0, 'A': 0, 'J': 0, 'AB': 0, 'proname': '亮白去角質卸粧乳', 'review': '這瓶卸妝乳，其實是在誤打誤撞的情況下買的。由於臨時要在外過夜，只好到屈臣氏隨便抓了一瓶。至於為什麼買它，則是因為這開價廠牌一直以來頗受好評。\\u3000\\u3000它的價格很便宜，效果卻出乎意料地好。之前我習慣用植村秀的潔顏油卸妝，總覺得有一點點油膩，而這款乳狀的卸妝用品，不僅不油膩，使用完後也不會有不舒服的乾澀感，兩頰也滿保濕的！\\u3000\\u3000這種便宜又好用的商品，以後我應該會繼續回購才是，特別是在經濟拮据無法使用植村秀那種高檔貨時，這款是可以考慮購買的噢！\\n', 'G': 0, 'F': 0, 'I': 0, 'K': 0, 'AC': 0, 'S': 0, 'count': 58, 'spr': 0, 'reviewid': '464322'}, {'N': 0, 'E': 0, 'X': 0, 'proid': '13722', 'date': '2009-03-01上市[停產]', 'T': 0, 'AA': 0, 'Z': 0, 'summer': 0, 'D': 0, 'O': 0, 'fall': 0, 'protype': '1', 'Q': 0, 'U': 0, 'V': 0, 'winter': 0, 'skin': '混合性肌膚', '_id': ObjectId('56b20933426a9c097cacacba'), 'H': 0, 'score': 2.0, 'B': 0, 'age': 21, 'W': 0, 'C': 0, 'scoresum': 3.0, 'R': 0, 'brand': 'AQUA LABEL 水之印', 'L': 0, 'Y': 0, 'P': 0, 'price': 270, 'M': 0, 'A': 0, 'J': 0, 'AB': 0, 'proname': '亮白去角質卸粧乳', 'review': '不但卸不了妝，而且還很難沖乾淨！皮膚會覺得有一層東西很不舒服，會悶悶的！當時是在網拍購買AQUA LABEL?柔潤保濕卸粧油 ＆亮白去角質卸粧乳?一起買只要３５０，就馬上敗下去了！使用結果覺得保濕卸粧油還可以，但是不會再使用這家的卸妝油了！\\n', 'G': 0, 'F': 0, 'I': 0, 'K': 0, 'AC': 0, 'S': 0, 'count': 58, 'spr': 0, 'reviewid': '478367'}, {'N': 0, 'E': 0, 'X': 0, 'proid': '13722', 'date': '2009-03-01上市[停產]', 'T': 0, 'AA': 0, 'Z': 0, 'summer': 0, 'D': 0, 'O': 0, 'fall': 0, 'protype': '1', 'Q': 0, 'U': 0, 'V': 0, 'winter': 0, 'skin': '混合性肌膚', '_id': ObjectId('56b20933426a9c097cacacbb'), 'H': 0, 'score': 3.0, 'B': 0, 'age': 24, 'W': 0, 'C': 0, 'scoresum': 3.0, 'R': 0, 'brand': 'AQUA LABEL 水之印', 'L': 0, 'Y': 0, 'P': 0, 'price': 270, 'M': 0, 'A': 0, 'J': 0, 'AB': 0, 'proname': '亮白去角質卸粧乳', 'review': 'Cleansing milk –卸妝產品斷檔時購入。本來以為它和Perfect milk感覺差不多，使用後發現，它並不適合卸濃重眼妝，需要先配合一款眼部卸妝液，再用它卸全臉。\\n', 'G': 0, 'F': 0, 'I': 0, 'K': 0, 'AC': 0, 'S': 0, 'count': 58, 'spr': 0, 'reviewid': '487726'}]\n"
     ]
    }
   ],
   "source": [
    "import pymongo\n",
    "from pymongo import MongoClient\n",
    "client = MongoClient('localhost', 27017)#connnect to server\n",
    "db = client['G5']#select database\n",
    "a=list(db.osos2.find().limit(10))\n",
    "print (a)"
   ]
  },
  {
   "cell_type": "code",
   "execution_count": null,
   "metadata": {
    "collapsed": true
   },
   "outputs": [],
   "source": []
  }
 ],
 "metadata": {
  "kernelspec": {
   "display_name": "Python 3",
   "language": "python",
   "name": "python3"
  },
  "language_info": {
   "codemirror_mode": {
    "name": "ipython",
    "version": 3
   },
   "file_extension": ".py",
   "mimetype": "text/x-python",
   "name": "python",
   "nbconvert_exporter": "python",
   "pygments_lexer": "ipython3",
   "version": "3.4.3"
  }
 },
 "nbformat": 4,
 "nbformat_minor": 0
}
